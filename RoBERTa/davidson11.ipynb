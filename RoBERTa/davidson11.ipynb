{
 "cells": [
  {
   "cell_type": "markdown",
   "metadata": {},
   "source": [
    "# Dataset 1: Transformer based embedding"
   ]
  },
  {
   "cell_type": "markdown",
   "metadata": {},
   "source": [
    "## Imports and login"
   ]
  },
  {
   "cell_type": "code",
   "execution_count": 17,
   "metadata": {},
   "outputs": [],
   "source": [
    "import re\n",
    "from transformers import AutoTokenizer, AutoConfig\n",
    "\n",
    "import pandas as pd\n",
    "\n",
    "from nltk.corpus import stopwords\n",
    "from nltk.stem import WordNetLemmatizer\n",
    "# nltk.download('wordnet')\n",
    "wnl = WordNetLemmatizer()\n",
    "\n",
    "# from sklearn.model_selection import train_test_split\n",
    "# from sklearn.metrics import precision_score, recall_score, f1_score, roc_auc_score, roc_curve\n",
    "\n",
    "from huggingface_hub import login, logout\n",
    "\n",
    "import tensorflow as tf\n",
    "\n",
    "import numpy as np\n",
    "\n",
    "from matplotlib import pyplot as plt\n"
   ]
  },
  {
   "cell_type": "markdown",
   "metadata": {},
   "source": [
    "### Logging in to HuggingFace, downloading the model and reading the dataset"
   ]
  },
  {
   "cell_type": "code",
   "execution_count": 18,
   "metadata": {},
   "outputs": [
    {
     "name": "stdout",
     "output_type": "stream",
     "text": [
      "The token has not been saved to the git credentials helper. Pass `add_to_git_credential=True` in this function directly or `--add-to-git-credential` if using via `huggingface-cli` if you want to set the git credential as well.\n",
      "Token is valid (permission: read).\n",
      "Your token has been saved to /Users/alkakumari/.cache/huggingface/token\n",
      "Login successful\n"
     ]
    }
   ],
   "source": [
    "f = open(\"../hf_token_read\", \"r\")\n",
    "hf_token = f.read()\n",
    "login(token=hf_token)"
   ]
  },
  {
   "cell_type": "code",
   "execution_count": 19,
   "metadata": {},
   "outputs": [],
   "source": [
    "david_df = pd.read_pickle('../data/davidson_data.p')\n",
    "david_df.drop(columns=['count', 'hate_speech', 'offensive_language', 'neither'], inplace=True)"
   ]
  },
  {
   "cell_type": "markdown",
   "metadata": {},
   "source": [
    "## Preprocessing"
   ]
  },
  {
   "cell_type": "code",
   "execution_count": 20,
   "metadata": {},
   "outputs": [],
   "source": [
    "stopwords = stopwords.words('english')\n",
    "stopwords.append('&amp;') # &amp; means and\n",
    "def clean(df):\n",
    "    df['tweet'] = df['tweet'].apply(lambda x: x.lower()) #lowercase as Roberta base is case sensitive\n",
    "    # df['tweet'] = df['tweet'].apply(lambda x: ' '.join([word for word in x.split() if word not in (stopwords)])) #stopwords removal\n",
    "    df['tweet'] = df['tweet'].apply(lambda x: re.sub(r'@[A-Za-z0-9]*', '', x)) #replace all @mentions to 'MENTION'\n",
    "    df['tweet'] = df['tweet'].apply(lambda x: re.sub(r'https?:\\/\\/(www\\.)?[-a-zA-Z0-9@:%._\\+~#=]{1,256}\\.[a-zA-Z0-9()]{1,6}\\b([-a-zA-Z0-9()@:%_\\+.~#?&//=]*)', 'URL', x)) #replace all urls to 'URL'\n",
    "    df['tweet'] = df['tweet'].apply(lambda x: re.sub(r'[^\\w\\s]', '', x)) #remove punctuation\n",
    "    # punct = '!\"$%&\\'()*+,-./:;<=>?[\\\\]^_{|}~'\n",
    "    # df['tweet'] = df['tweet'].apply(lambda x: ''.join(ch for ch in x if ch not in set(punct)))\n",
    "    # df['tweet'] = df['tweet'].apply(lambda x: ' '.join([wnl.lemmatize(word, pos='a') for word in x.split()])) #lemmatize on the basis of adjectives\n",
    "    # df['tweet'] = df['tweet'].apply(lambda x: ' '.join([wnl.lemmatize(word, pos='v') for word in x.split()])) #lemmatize on the basis of verbs\n",
    "    # df['tweet'] = df['tweet'].apply(lambda x: ' '.join([wnl.lemmatize(word, pos='n') for word in x.split()])) #lemmatize on the basis of noun\n",
    "    df['tweet'] = df['tweet'].apply(lambda x: re.sub(r'\\bRT\\b', '', x)) #remove RT\n",
    "    df['tweet'] = df['tweet'].apply(lambda x: re.sub(r'\\brt\\b', '', x)) #remove RT\n",
    "    return df"
   ]
  },
  {
   "cell_type": "code",
   "execution_count": 21,
   "metadata": {},
   "outputs": [],
   "source": [
    "MAX_SEQ_LEN = 25\n",
    "david_df = clean(david_df)"
   ]
  },
  {
   "cell_type": "markdown",
   "metadata": {},
   "source": [
    "## Get Model Config"
   ]
  },
  {
   "cell_type": "code",
   "execution_count": 22,
   "metadata": {},
   "outputs": [],
   "source": [
    "model_checkpoint='roberta-base'\n",
    "model_config = AutoConfig.from_pretrained(model_checkpoint)\n",
    "tokenizer = AutoTokenizer.from_pretrained(model_checkpoint)\n",
    "def tokenize(batch):\n",
    "    return tokenizer(batch['tweet'], padding='max_length', truncation=True, max_length=MAX_SEQ_LEN)"
   ]
  },
  {
   "cell_type": "code",
   "execution_count": 23,
   "metadata": {},
   "outputs": [],
   "source": [
    "tokenized_text = tokenizer(david_df['tweet'].tolist(),\n",
    "                   padding=True,\n",
    "                   truncation=True,\n",
    "                   max_length=MAX_SEQ_LEN,\n",
    "                   return_tensors='tf')"
   ]
  },
  {
   "cell_type": "code",
   "execution_count": 24,
   "metadata": {},
   "outputs": [
    {
     "data": {
      "text/plain": [
       "<tf.Tensor: shape=(24783, 25), dtype=int32, numpy=\n",
       "array([[    0,  1437,  1437, ...,   185,     5,     2],\n",
       "       [    0,  1437,  1437, ...,   317,     2,     1],\n",
       "       [    0,  1437,  1437, ..., 15328,     2,     1],\n",
       "       ...,\n",
       "       [    0, 26840, 13182, ...,     1,     1,     1],\n",
       "       [    0,  6968,   257, ...,     1,     1,     1],\n",
       "       [    0, 26775,  1329, ...,    10,  9843,     2]], dtype=int32)>"
      ]
     },
     "execution_count": 24,
     "metadata": {},
     "output_type": "execute_result"
    }
   ],
   "source": [
    "tokenized_text.input_ids"
   ]
  },
  {
   "cell_type": "code",
   "execution_count": 25,
   "metadata": {},
   "outputs": [],
   "source": [
    "tensor_dataset = tf.data.Dataset.from_tensor_slices((tokenized_text.input_ids, david_df['class'].tolist()))"
   ]
  },
  {
   "cell_type": "code",
   "execution_count": 26,
   "metadata": {},
   "outputs": [],
   "source": [
    "n_elements=len(tensor_dataset)"
   ]
  },
  {
   "cell_type": "code",
   "execution_count": 27,
   "metadata": {},
   "outputs": [],
   "source": [
    "val_data_size=int(0.2*n_elements)\n",
    "batch_size=32\n",
    "val_ds=tensor_dataset.take(val_data_size).batch(batch_size, drop_remainder=True) \n",
    "train_ds=tensor_dataset.skip(val_data_size).batch(batch_size, drop_remainder=True)\n",
    "train_ds = train_ds.prefetch(buffer_size=tf.data.experimental.AUTOTUNE)"
   ]
  },
  {
   "cell_type": "code",
   "execution_count": 28,
   "metadata": {},
   "outputs": [],
   "source": [
    "from transformers import TFAutoModelForSequenceClassification\n",
    "num_labels = 3"
   ]
  },
  {
   "cell_type": "code",
   "execution_count": 29,
   "metadata": {},
   "outputs": [
    {
     "name": "stderr",
     "output_type": "stream",
     "text": [
      "Some weights of the PyTorch model were not used when initializing the TF 2.0 model TFRobertaForSequenceClassification: ['roberta.embeddings.position_ids']\n",
      "- This IS expected if you are initializing TFRobertaForSequenceClassification from a PyTorch model trained on another task or with another architecture (e.g. initializing a TFBertForSequenceClassification model from a BertForPreTraining model).\n",
      "- This IS NOT expected if you are initializing TFRobertaForSequenceClassification from a PyTorch model that you expect to be exactly identical (e.g. initializing a TFBertForSequenceClassification model from a BertForSequenceClassification model).\n",
      "Some weights or buffers of the TF 2.0 model TFRobertaForSequenceClassification were not initialized from the PyTorch model and are newly initialized: ['classifier.dense.weight', 'classifier.dense.bias', 'classifier.out_proj.weight', 'classifier.out_proj.bias']\n",
      "You should probably TRAIN this model on a down-stream task to be able to use it for predictions and inference.\n",
      "WARNING:absl:At this time, the v2.11+ optimizer `tf.keras.optimizers.Adam` runs slowly on M1/M2 Macs, please use the legacy Keras optimizer instead, located at `tf.keras.optimizers.legacy.Adam`.\n",
      "WARNING:absl:There is a known slowdown when using v2.11+ Keras optimizers on M1/M2 Macs. Falling back to the legacy Keras optimizer, i.e., `tf.keras.optimizers.legacy.Adam`.\n"
     ]
    }
   ],
   "source": [
    "model = TFAutoModelForSequenceClassification.from_pretrained(\"roberta-base\", num_labels=num_labels)\n",
    "model.compile(\n",
    "        optimizer=tf.keras.optimizers.Adam(learning_rate=0.000001, clipnorm=1.),\n",
    "        loss=tf.keras.losses.SparseCategoricalCrossentropy(from_logits=True),\n",
    "        metrics=[tf.metrics.SparseCategoricalAccuracy(),\n",
    "                 ],\n",
    "        )"
   ]
  },
  {
   "cell_type": "code",
   "execution_count": 30,
   "metadata": {},
   "outputs": [
    {
     "data": {
      "text/plain": [
       "<transformers.models.roberta.modeling_tf_roberta.TFRobertaForSequenceClassification at 0x29fd71d60>"
      ]
     },
     "execution_count": 30,
     "metadata": {},
     "output_type": "execute_result"
    }
   ],
   "source": [
    "model"
   ]
  },
  {
   "cell_type": "code",
   "execution_count": 31,
   "metadata": {},
   "outputs": [
    {
     "name": "stdout",
     "output_type": "stream",
     "text": [
      "Epoch 1/20\n",
      "619/619 [==============================] - 1225s 2s/step - loss: 0.6549 - sparse_categorical_accuracy: 0.7436 - val_loss: 0.5651 - val_sparse_categorical_accuracy: 0.7989\n",
      "Epoch 2/20\n",
      "619/619 [==============================] - 1166s 2s/step - loss: 0.3851 - sparse_categorical_accuracy: 0.8725 - val_loss: 0.4148 - val_sparse_categorical_accuracy: 0.8480\n",
      "Epoch 3/20\n",
      "619/619 [==============================] - 1135s 2s/step - loss: 0.3077 - sparse_categorical_accuracy: 0.8932 - val_loss: 0.3612 - val_sparse_categorical_accuracy: 0.8584\n",
      "Epoch 4/20\n",
      "619/619 [==============================] - 1248s 2s/step - loss: 0.2793 - sparse_categorical_accuracy: 0.9013 - val_loss: 0.3461 - val_sparse_categorical_accuracy: 0.8673\n",
      "Epoch 5/20\n",
      "619/619 [==============================] - 1222s 2s/step - loss: 0.2688 - sparse_categorical_accuracy: 0.9058 - val_loss: 0.3343 - val_sparse_categorical_accuracy: 0.8699\n",
      "Epoch 6/20\n",
      "619/619 [==============================] - 1420s 2s/step - loss: 0.2561 - sparse_categorical_accuracy: 0.9089 - val_loss: 0.3326 - val_sparse_categorical_accuracy: 0.8703\n",
      "Epoch 7/20\n",
      "619/619 [==============================] - 2025s 3s/step - loss: 0.2490 - sparse_categorical_accuracy: 0.9109 - val_loss: 0.3283 - val_sparse_categorical_accuracy: 0.8718\n",
      "Epoch 8/20\n",
      "619/619 [==============================] - 1575s 3s/step - loss: 0.2428 - sparse_categorical_accuracy: 0.9155 - val_loss: 0.3275 - val_sparse_categorical_accuracy: 0.8724\n",
      "Epoch 9/20\n",
      "619/619 [==============================] - 2297s 4s/step - loss: 0.2371 - sparse_categorical_accuracy: 0.9163 - val_loss: 0.3342 - val_sparse_categorical_accuracy: 0.8679\n",
      "Epoch 10/20\n",
      "619/619 [==============================] - 1795s 3s/step - loss: 0.2277 - sparse_categorical_accuracy: 0.9196 - val_loss: 0.3251 - val_sparse_categorical_accuracy: 0.8732\n",
      "Epoch 11/20\n",
      "619/619 [==============================] - 3910s 6s/step - loss: 0.2227 - sparse_categorical_accuracy: 0.9216 - val_loss: 0.3287 - val_sparse_categorical_accuracy: 0.8744\n",
      "Epoch 12/20\n",
      "619/619 [==============================] - 1858s 3s/step - loss: 0.2189 - sparse_categorical_accuracy: 0.9224 - val_loss: 0.3309 - val_sparse_categorical_accuracy: 0.8705\n",
      "Epoch 13/20\n",
      "619/619 [==============================] - 1276s 2s/step - loss: 0.2132 - sparse_categorical_accuracy: 0.9260 - val_loss: 0.3276 - val_sparse_categorical_accuracy: 0.8732\n",
      "Epoch 14/20\n",
      "619/619 [==============================] - 1303s 2s/step - loss: 0.2068 - sparse_categorical_accuracy: 0.9278 - val_loss: 0.3345 - val_sparse_categorical_accuracy: 0.8707\n"
     ]
    },
    {
     "data": {
      "image/png": "[encoded data removed]",
      "text/plain": [
       "<Figure size 640x480 with 1 Axes>"
      ]
     },
     "metadata": {},
     "output_type": "display_data"
    }
   ],
   "source": [
    "history=model.fit(train_ds, validation_data=val_ds, epochs=20, verbose=1,\n",
    "                  callbacks=[tf.keras.callbacks.EarlyStopping(monitor='val_loss', patience=4, restore_best_weights=True)]\n",
    "                  )\n",
    "model.save_weights('./saved_weights.h5')\n",
    "plt.plot(history.history['loss'])\n",
    "plt.plot(history.history['val_loss'])\n",
    "plt.ylabel('model loss')\n",
    "plt.xlabel('epoch')\n",
    "plt.legend(['train', 'test'], loc='best')\n",
    "plt.savefig('train_history.png')\n",
    "plt.show()"
   ]
  },
  {
   "cell_type": "markdown",
   "metadata": {},
   "source": [
    "## Finetuning"
   ]
  },
  {
   "cell_type": "code",
   "execution_count": 32,
   "metadata": {},
   "outputs": [
    {
     "ename": "NameError",
     "evalue": "name 'tf_validation_dataset' is not defined",
     "output_type": "error",
     "traceback": [
      "\u001b[0;31m---------------------------------------------------------------------------\u001b[0m",
      "\u001b[0;31mNameError\u001b[0m                                 Traceback (most recent call last)",
      "Cell \u001b[0;32mIn[32], line 1\u001b[0m\n\u001b[0;32m----> 1\u001b[0m \u001b[43mtf_validation_dataset\u001b[49m\n",
      "\u001b[0;31mNameError\u001b[0m: name 'tf_validation_dataset' is not defined"
     ]
    }
   ],
   "source": [
    "tf_validation_dataset"
   ]
  },
  {
   "cell_type": "code",
   "execution_count": null,
   "metadata": {},
   "outputs": [],
   "source": [
    "from transformers.keras_callbacks import KerasMetricCallback\n",
    "from datasets import evaluate\n",
    "\n",
    "metric = load_metric(\"accuracy\")\n",
    "\n",
    "\n",
    "def compute_metrics(eval_predictions):\n",
    "    predictions, labels = eval_predictions\n",
    "    predictions = np.argmax(predictions, axis=1)\n",
    "    return metric.compute(predictions=predictions, references=labels)\n",
    "\n",
    "\n",
    "metric_callback = KerasMetricCallback(\n",
    "    metric_fn=compute_metrics, eval_dataset=tf_validation_dataset,\n",
    ")"
   ]
  }
 ],
 "metadata": {
  "kernelspec": {
   "display_name": "Python 3",
   "language": "python",
   "name": "python3"
  },
  "language_info": {
   "codemirror_mode": {
    "name": "ipython",
    "version": 3
   },
   "file_extension": ".py",
   "mimetype": "text/x-python",
   "name": "python",
   "nbconvert_exporter": "python",
   "pygments_lexer": "ipython3",
   "version": "3.8.19"
  }
 },
 "nbformat": 4,
 "nbformat_minor": 2
}
